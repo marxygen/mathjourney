{
 "cells": [
  {
   "cell_type": "markdown",
   "metadata": {},
   "source": [
    "# An Invitation to Abstract Mathematics, 2 edition, 2020\n",
    "## Bjankok B."
   ]
  },
  {
   "cell_type": "code",
   "execution_count": 181,
   "metadata": {
    "ExecuteTime": {
     "end_time": "2023-05-27T11:06:01.232572706Z",
     "start_time": "2023-05-27T11:06:01.226080499Z"
    }
   },
   "outputs": [],
   "source": [
    "from IPython.display import Latex, Math, display\n",
    "from random import randint\n",
    "from math import log"
   ]
  },
  {
   "cell_type": "markdown",
   "metadata": {},
   "source": [
    "## Chapter 1."
   ]
  },
  {
   "cell_type": "markdown",
   "metadata": {},
   "source": [
    "## Chapter 4. What's True in Mathematics?"
   ]
  },
  {
   "cell_type": "code",
   "execution_count": 32,
   "metadata": {
    "ExecuteTime": {
     "end_time": "2023-05-27T11:07:04.194387355Z",
     "start_time": "2023-05-27T11:07:04.188145599Z"
    }
   },
   "outputs": [
    {
     "data": {
      "text/latex": [
       "3. Suppose that $c$ is in arbitrary real number greater than 1 and $m$ is a positive integer. \n",
       "Use Lemma 4.2 to find a direct formula\n",
       "for each of the following:\n"
      ],
      "text/plain": [
       "<IPython.core.display.Latex object>"
      ]
     },
     "metadata": {},
     "output_type": "display_data"
    }
   ],
   "source": [
    "%%latex\n",
    "3. Suppose that $c$ is in arbitrary real number greater than 1 and $m$ is a positive integer. \n",
    "Use Lemma 4.2 to find a direct formula\n",
    "for each of the following:"
   ]
  },
  {
   "cell_type": "code",
   "execution_count": 31,
   "metadata": {},
   "outputs": [
    {
     "data": {
      "text/latex": [
       "(a) $1 + c + c^2 + c^3 + \\ldots + c^m = \\frac{c^{m+1} - 1}{c - 1}$\n"
      ],
      "text/plain": [
       "<IPython.core.display.Latex object>"
      ]
     },
     "metadata": {},
     "output_type": "display_data"
    }
   ],
   "source": [
    "%%latex\n",
    "(a) $1 + c + c^2 + c^3 + \\ldots + c^m = \\frac{c^{m+1} - 1}{c - 1}$"
   ]
  },
  {
   "cell_type": "markdown",
   "metadata": {},
   "source": [
    "### Proof"
   ]
  },
  {
   "cell_type": "code",
   "execution_count": 127,
   "metadata": {},
   "outputs": [
    {
     "name": "stdout",
     "output_type": "stream",
     "text": [
      "For c = 3, m = 10\n",
      "Direct result:\n"
     ]
    },
    {
     "data": {
      "text/latex": [
       "$\\displaystyle {c}^{1} + {c}^{2} + {c}^{3} + {c}^{4} + {c}^{5} + {c}^{6} + {c}^{7} + {c}^{8} + {c}^{9} + {c}^{10} = 88573$"
      ],
      "text/plain": [
       "<IPython.core.display.Math object>"
      ]
     },
     "metadata": {},
     "output_type": "display_data"
    },
    {
     "name": "stdout",
     "output_type": "stream",
     "text": [
      "Formula result:\n"
     ]
    },
    {
     "data": {
      "text/latex": [
       "$\\displaystyle \\frac{3^{10 + 1} - 1}{3 - 1} = 88573$"
      ],
      "text/plain": [
       "<IPython.core.display.Math object>"
      ]
     },
     "metadata": {},
     "output_type": "display_data"
    }
   ],
   "source": [
    "c = randint(2, 10)\n",
    "m = 10\n",
    "\n",
    "direct_result = 1 # Because we start from 1 (technically, c^0)\n",
    "equation = \"\"\n",
    "for i in range(1, m+1):\n",
    "    direct_result += c**i\n",
    "    equation += \" + {c}^{%d}\" % i\n",
    "\n",
    "print(f'For c = {c}, m = {m}\\nDirect result:')\n",
    "display(Math(equation.lstrip(' +') + f\" = {direct_result}\"))\n",
    "\n",
    "formula_result = (c**(m+1) - 1)/(c-1)\n",
    "print(f'Formula result:')\n",
    "display(Math(r'\\frac{%d^{%d + 1} - 1}{%d - 1} = %d' % (c, m, c, formula_result)))\n",
    "\n",
    "assert formula_result == direct_result, \"Solution is invalid\""
   ]
  },
  {
   "cell_type": "code",
   "execution_count": 135,
   "metadata": {},
   "outputs": [
    {
     "data": {
      "text/latex": [
       "(b) $(1) + (1 + c) + (1 + c + c^2) + \\ldots + (1 + c + c^2 + c^3 + \\ldots + c^m) = \\frac{c^{m+2} - 1}{(c - 1)^2} - \\frac{m+2}{c-1}$\n"
      ],
      "text/plain": [
       "<IPython.core.display.Latex object>"
      ]
     },
     "metadata": {},
     "output_type": "display_data"
    }
   ],
   "source": [
    "%%latex\n",
    "(b) $(1) + (1 + c) + (1 + c + c^2) + \\ldots + (1 + c + c^2 + c^3 + \\ldots + c^m) = \\frac{c^{m+2} - 1}{(c - 1)^2} - \\frac{m+2}{c-1}$"
   ]
  },
  {
   "cell_type": "markdown",
   "metadata": {},
   "source": [
    "### Proof"
   ]
  },
  {
   "cell_type": "code",
   "execution_count": 151,
   "metadata": {},
   "outputs": [
    {
     "name": "stdout",
     "output_type": "stream",
     "text": [
      "For c = 3\n",
      "Direct result:\n"
     ]
    },
    {
     "data": {
      "text/latex": [
       "$\\displaystyle (1 ) +(1 +3^{1} ) +(1 +3^{1} +3^{2} ) +(1 +3^{1} +3^{2} +3^{3} ) +(1 +3^{1} +3^{2} +3^{3} +3^{4} ) = 179$"
      ],
      "text/plain": [
       "<IPython.core.display.Math object>"
      ]
     },
     "metadata": {},
     "output_type": "display_data"
    },
    {
     "name": "stdout",
     "output_type": "stream",
     "text": [
      "Formula result:\n"
     ]
    },
    {
     "data": {
      "text/latex": [
       "$\\displaystyle \\frac{3^{4+2} - 1}{(3 - 1)^2} - \\frac{4+2}{3-1} = 179$"
      ],
      "text/plain": [
       "<IPython.core.display.Math object>"
      ]
     },
     "metadata": {},
     "output_type": "display_data"
    }
   ],
   "source": [
    "c = randint(2, 10)\n",
    "m = 4\n",
    "\n",
    "direct_result = 0\n",
    "equation = \"\"\n",
    "for i in range(0, m+1):\n",
    "    term = \"(\"\n",
    "    for j in range(0, i+1):\n",
    "        direct_result += c**j\n",
    "        term += (\"%d^{%d} +\" % (c, j)) if j != 0 else \"1 +\"\n",
    "    equation += term.rstrip(\"+\") + \") +\"\n",
    "\n",
    "print(f'For c = {c}\\nDirect result:')\n",
    "display(Math(equation.rstrip(' +') + f\" = {direct_result}\"))\n",
    "\n",
    "formula_result = (c**(m+2) - 1)/((c-1)**2) - (m+2)/(c-1)\n",
    "print(f'Formula result:')\n",
    "display(Math(r'\\frac{%d^{%d+2} - 1}{(%d - 1)^2} - \\frac{%d+2}{%d-1} = %d' % (c, m, c, m, c, formula_result)))\n",
    "\n",
    "assert formula_result == direct_result, f\"Solution is invalid: {formula_result} != {direct_result}\""
   ]
  },
  {
   "cell_type": "code",
   "execution_count": 153,
   "metadata": {},
   "outputs": [
    {
     "data": {
      "text/latex": [
       "4. Alvin has a New Year's resolution: he wants to start saving money toward his ultimate goal of $100,000.\n",
       "His bank account earns a 0.3% daily interest rate, compounded each day; the bank is open for business every day\n",
       "of the year.\n"
      ],
      "text/plain": [
       "<IPython.core.display.Latex object>"
      ]
     },
     "metadata": {},
     "output_type": "display_data"
    }
   ],
   "source": [
    "%%latex\n",
    "4. Alvin has a New Year's resolution: he wants to start saving money toward his ultimate goal of $100,000.\n",
    "His bank account earns a 0.3% daily interest rate, compounded each day; the bank is open for business every day\n",
    "of the year."
   ]
  },
  {
   "cell_type": "markdown",
   "metadata": {},
   "source": [
    "a) How long would it take him to achieve his goal if he opened a new account every day with $1 investment?\n",
    "\n",
    "*Answer*: about 1905 days"
   ]
  },
  {
   "cell_type": "code",
   "execution_count": 162,
   "metadata": {},
   "outputs": [
    {
     "data": {
      "text/latex": [
       "$$\n",
       "1.003^m + 1.003^{m-1} + 1.003^{m-2} + \\ldots + 1.003 \\geq 100000\n",
       "$$\n"
      ],
      "text/plain": [
       "<IPython.core.display.Latex object>"
      ]
     },
     "metadata": {},
     "output_type": "display_data"
    }
   ],
   "source": [
    "%%latex\n",
    "$$\n",
    "1.003^m + 1.003^{m-1} + 1.003^{m-2} + \\ldots + 1.003 \\geq 100000\n",
    "$$"
   ]
  },
  {
   "cell_type": "code",
   "execution_count": 177,
   "metadata": {},
   "outputs": [
    {
     "data": {
      "text/latex": [
       "$$\n",
       "\\frac{1.003^{m+1} - 1}{0.003} \\geq 100000 \\implies 1.003^{m+1} - 1 \\geq 300 \\implies 1.003^m \\times 1.003 \\geq 301 \\implies 1.003^m = \\frac{301}{1.003}\n",
       "$$\n"
      ],
      "text/plain": [
       "<IPython.core.display.Latex object>"
      ]
     },
     "metadata": {},
     "output_type": "display_data"
    }
   ],
   "source": [
    "%%latex\n",
    "$$\n",
    "\\frac{1.003^{m+1} - 1}{0.003} \\geq 100000 \\implies 1.003^{m+1} - 1 \\geq 300 \\implies 1.003^m \\times 1.003 \\geq 301 \\implies 1.003^m = \\frac{301}{1.003}\n",
    "$$"
   ]
  },
  {
   "cell_type": "code",
   "execution_count": 189,
   "metadata": {},
   "outputs": [
    {
     "data": {
      "text/latex": [
       "$\\displaystyle \\log_{1.003}{\\frac{301}{1.003}} = 1904.22 \\text{ days}$"
      ],
      "text/plain": [
       "<IPython.core.display.Math object>"
      ]
     },
     "metadata": {},
     "output_type": "display_data"
    }
   ],
   "source": [
    "display(Math(r\"\\log_{1.003}{\\frac{301}{1.003}} = %.2f \\text{ days}\" % log(301/1.003, 1.003)))"
   ]
  },
  {
   "cell_type": "markdown",
   "metadata": {},
   "source": [
    "### Proof"
   ]
  },
  {
   "cell_type": "code",
   "execution_count": 195,
   "metadata": {},
   "outputs": [
    {
     "name": "stdout",
     "output_type": "stream",
     "text": [
      "Days: 1905 (5.22 years)\n"
     ]
    }
   ],
   "source": [
    "ir = 0.003\n",
    "accounts = []\n",
    "goal = 100_000\n",
    "days = 0\n",
    "\n",
    "while True:\n",
    "    days += 1\n",
    "    accounts = [a*(1 + ir) for a in accounts]\n",
    "    accounts.append(1 * (1 + ir))\n",
    "    if sum(accounts) >= goal:\n",
    "        break\n",
    "print(f'Days: {days} ({days / 365 :.2f} years)')"
   ]
  },
  {
   "cell_type": "markdown",
   "metadata": {},
   "source": [
    "b) Not being satisfied with the answer above, Alvin decides to adopt the following strategy: starting on January 1, and each day of the year, he (i) opens a new account with a \\\\$1 investment and (ii) deposits \\\\$1 into each of his other existing accounts. Will Alvin achieve his goal by December 31?\n",
    "\n",
    "*Answer*: Yes"
   ]
  },
  {
   "cell_type": "code",
   "execution_count": 200,
   "metadata": {},
   "outputs": [
    {
     "data": {
      "text/latex": [
       "$$(1.003 + 1.003^2 + \\ldots + 1.003^m) + (1.003 + 1.003^2 + 1.003^3 + \\ldots + 1.003^{m-1}) + \\ldots + 1.003$$\n"
      ],
      "text/plain": [
       "<IPython.core.display.Latex object>"
      ]
     },
     "metadata": {},
     "output_type": "display_data"
    }
   ],
   "source": [
    "%%latex\n",
    "$$(1.003 + 1.003^2 + \\ldots + 1.003^m) + (1.003 + 1.003^2 + 1.003^3 + \\ldots + 1.003^{m-1}) + \\ldots + 1.003$$"
   ]
  },
  {
   "cell_type": "code",
   "execution_count": 238,
   "metadata": {},
   "outputs": [
    {
     "data": {
      "text/latex": [
       "$$\n",
       "\\frac{c^{m+2} - 1}{(c-1)^2} - \\frac{m+2}{c-1} = \\frac{1.003^{m+2} - 1}{(1.003-1)^2} - \\frac{m+2}{1.003-1} \\geq 100000\n",
       "\\implies\n",
       "1.003^{m+1} - 0.003m = 1.906\n",
       "$$\n"
      ],
      "text/plain": [
       "<IPython.core.display.Latex object>"
      ]
     },
     "metadata": {},
     "output_type": "display_data"
    }
   ],
   "source": [
    "%%latex\n",
    "$$\n",
    "\\frac{c^{m+2} - 1}{(c-1)^2} - \\frac{m+2}{c-1} = \\frac{1.003^{m+2} - 1}{(1.003-1)^2} - \\frac{m+2}{1.003-1} \\geq 100000\n",
    "\\implies\n",
    "1.003^{m+1} - 0.003m = 1.906\n",
    "$$"
   ]
  },
  {
   "cell_type": "markdown",
   "metadata": {},
   "source": [
    "### Proof"
   ]
  },
  {
   "cell_type": "code",
   "execution_count": 257,
   "metadata": {},
   "outputs": [
    {
     "name": "stdout",
     "output_type": "stream",
     "text": [
      "Days to achieve $100,000: 366 (1.00 years)\n",
      "Formula result for 365 days: 99,769.48 (Goal not achieved)\n",
      "Formula result for 366 days: 100,435.89 (Goal achieved)\n"
     ]
    }
   ],
   "source": [
    "accounts = []\n",
    "ir = 0.003\n",
    "goal = 100_000\n",
    "days = 0\n",
    "\n",
    "while True:\n",
    "    days += 1\n",
    "    accounts = [(a + 1)*(1 + ir) for a in accounts]\n",
    "    accounts.append(1 * (1 + ir))\n",
    "    if sum(accounts) >= goal:\n",
    "        break\n",
    "print(f'Days to achieve ${goal:,}: {days} ({days / 365 :.2f} years)')\n",
    "\n",
    "# Since the question is \"Will he have achieved the goal by the end of the year\", we can just check 365 and 366 as m\n",
    "for day in (365, 366):\n",
    "    formula_result = (1.003**(day+2) - 1)/((1.003-1)**2) - (day+2)/(1.003-1) - (day + 1)\n",
    "    success = formula_result >= 100000\n",
    "    print(f'Formula result for {day} days: {formula_result:,.2f} (Goal{\" \" if success else \" not \"}achieved)')"
   ]
  },
  {
   "cell_type": "code",
   "execution_count": null,
   "metadata": {},
   "outputs": [],
   "source": []
  }
 ],
 "metadata": {
  "kernelspec": {
   "display_name": "Python 3 (ipykernel)",
   "language": "python",
   "name": "python3"
  },
  "language_info": {
   "codemirror_mode": {
    "name": "ipython",
    "version": 3
   },
   "file_extension": ".py",
   "mimetype": "text/x-python",
   "name": "python",
   "nbconvert_exporter": "python",
   "pygments_lexer": "ipython3",
   "version": "3.10.10"
  }
 },
 "nbformat": 4,
 "nbformat_minor": 1
}
